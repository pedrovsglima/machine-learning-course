{
  "nbformat": 4,
  "nbformat_minor": 0,
  "metadata": {
    "colab": {
      "provenance": []
    },
    "kernelspec": {
      "name": "python3",
      "display_name": "Python 3"
    },
    "language_info": {
      "name": "python"
    }
  },
  "cells": [
    {
      "cell_type": "markdown",
      "source": [
        "# Assignment 2\n",
        "\n",
        "## General information\n",
        "\n",
        "This assignment has three problems:\n",
        " - 1: Generative Classifiers\n",
        " - 2: Softmax Regression\n",
        " - 3: Ensemble Classifiers\n",
        "\n",
        "Utilize the designated cells within this notebook to complete the exercises. As for the Python exercises:\n",
        "- Refrain from altering the provided code; simply fill in the missing portions as indicated.\n",
        "- Do not use any additional libraries beyond those already included in the code (e.g., NumPy library).\n",
        "- Make sure that the output of all code cells is visible in your submitted notebook. **The evaluator is NOT expected to execute your code before grading your submission.**\n",
        "- Some problems include automatic checks (*assertions*) to verify basic aspects of your solution. However, passing these assertions does not guarantee that your solution is entirely correct. The final evaluation will always be determined by the evaluator.\n",
        "- Avoid the use of for loops by using NumPy vectorized operations whenever possible.\n",
        "   \n",
        "Please identify the authors of this assignment in the cell below."
      ],
      "metadata": {
        "id": "3eVey53yXnDE"
      }
    },
    {
      "cell_type": "markdown",
      "source": [
        "## Identification\n",
        "\n",
        "* **Name:**\n",
        "* **Student Number:**\n",
        "\n",
        "* **Name:**\n",
        "* **Student Number:**\n",
        "\n",
        "* **Name:**\n",
        "* **Student Number:**\n",
        "---\n",
        "\n",
        "**Note:** This work is to be done in group of up to **3** elements. Use this notebook to answer all the questions. At the end of the work, you should **upload** the **notebook** and a **pdf file** with a printout of the notebook with all the results in the **moodle** platform.\n",
        "To generate the pdf file we have first to covert the notebook to html using the command `!jupyter nbconvert --to html \"ML_project2.ipynb\"`, then open the html file and printout to PDF."
      ],
      "metadata": {
        "id": "vM05fvVqQA-R"
      }
    },
    {
      "cell_type": "markdown",
      "source": [
        "## Introduction\n",
        "\n",
        "For this assignment, we will consider the task of predicting the quality of red wine (rated on an integer scale from 0 to 5) based on 11 chemical properties, such as pH, alcohol content, residual sugar, etc. This dataset was originally published in:\n",
        "\n",
        "Cortez, Paulo, et al. [\"Modeling wine preferences by data mining from physicochemical properties.\"](https://https://www.sciencedirect.com/science/article/abs/pii/S0167923609001377) Decision support systems 47.4 (2009): 547-553.\n",
        "\n",
        "Since quality is a discrete and ordinal attribute, this problem could be framed as either a regression or classification task. For this assignment, we will treat it as a classification problem. Specifically, we have a **6-class classification dataset** ($y \\in \\{0, 1, \\dots, 5\\}$) where each **feature vector is 11-dimensional** ($\\mathbf{x} \\in \\mathbb{R}^{11}$).\n",
        "\n",
        "In the cell below, we load and prepare the data for you."
      ],
      "metadata": {
        "id": "rAFvjQVHQBLt"
      }
    },
    {
      "cell_type": "code",
      "source": [
        "import pandas as pd\n",
        "\n",
        "train_data = pd.read_csv(\"winequality_train.csv\")\n",
        "print(\"A training example:\")\n",
        "print(train_data.iloc[0])\n",
        "print()\n",
        "test_data = pd.read_csv(\"winequality_test.csv\")\n",
        "print(\"A test example:\")\n",
        "print(test_data.iloc[0])\n",
        "print()\n",
        "\n",
        "X_train = train_data.iloc[:, :-1].values\n",
        "y_train = train_data.iloc[:, -1].values\n",
        "X_test = test_data.iloc[:, :-1].values\n",
        "y_test = test_data.iloc[:, -1].values\n",
        "print(\"X_train shape:\", X_train.shape)\n",
        "print(\"X_test shape:\", X_test.shape)\n",
        "print(\"y_train shape:\", y_train.shape)\n",
        "print(\"y_test shape:\", y_test.shape)"
      ],
      "metadata": {
        "id": "lvDtT4_8MkMX"
      },
      "execution_count": null,
      "outputs": []
    },
    {
      "cell_type": "markdown",
      "source": [
        "An important **preprocessing step** for multi-dimensional continuous data is to ensure all features have **zero mean** and **unit variance**. In the code below, we transform the data to achieve this.\n",
        "\n",
        "**When normalizing the test data, we reuse the mean and standard deviation from the training data**, rather than recalculating them. This ensures a fair evaluation, since we want to classify new examples without assuming any prior knowledge about their distribution beyond what was learned during the training phase."
      ],
      "metadata": {
        "id": "Vl7wtbg5AnHk"
      }
    },
    {
      "cell_type": "code",
      "source": [
        "print(\"Training data statistics before normalization:\")\n",
        "print(\"  * mean:\", X_train.mean(axis=0))\n",
        "print(\"  * std:\", X_train.std(axis=0))\n",
        "print()\n",
        "print(\"Test data statistics before normalization:\")\n",
        "print(\"  * mean:\", X_test.mean(axis=0))\n",
        "print(\"  * std:\", X_test.std(axis=0))\n",
        "print()\n",
        "\n",
        "train_mean = X_train.mean(axis=0)\n",
        "train_std = X_train.std(axis=0)\n",
        "X_train = (X_train - train_mean) / train_std\n",
        "X_test = (X_test - train_mean) / train_std\n",
        "\n",
        "print(\"Training data statistics after normalization:\")\n",
        "print(\"  * mean:\", X_train.mean(axis=0))\n",
        "print(\"  * std:\", X_train.std(axis=0))\n",
        "print()\n",
        "print(\"Test data statistics after normalization:\")\n",
        "print(\"  * mean:\", X_test.mean(axis=0))\n",
        "print(\"  * std:\", X_test.std(axis=0))"
      ],
      "metadata": {
        "id": "xnmjozR85Jpj"
      },
      "execution_count": null,
      "outputs": []
    },
    {
      "cell_type": "markdown",
      "source": [
        "## Problem 1: Generative Classifiers (Linear Discriminant Analysis)"
      ],
      "metadata": {
        "id": "szaZLcuDZQp7"
      }
    },
    {
      "cell_type": "markdown",
      "source": [
        "Consider a classifier that predicts the class label $\\widehat{y}$ for an observed feature vector $\\mathbf{x}$ using the *maximum a posteriori* (MAP) classification rule:\n",
        "\n",
        "$$\n",
        "\\widehat{y} = \\arg\\max_y p(y \\mid \\mathbf{x}).\n",
        "$$\n",
        "\n",
        "Assume the following:\n",
        "1. The distribution of $\\mathbf{x} \\mid y\\$ is Gaussian.\n",
        "2. The covariance matrix is shared by all the classes.\n",
        "\n",
        "In the cell below, you have the skeleton of a `LDAClassifier` class that you will complete throughout this exercise to implement this classifier.\n"
      ],
      "metadata": {
        "id": "HpCEelC1Z9X5"
      }
    },
    {
      "cell_type": "code",
      "source": [
        "import numpy as np\n",
        "from scipy.stats import multivariate_normal\n",
        "\n",
        "class LDAClassifier:\n",
        "    def fit(self, X: np.ndarray, y: np.ndarray) -> None:\n",
        "        \"\"\"\n",
        "        Estimate the parameters of the classifier from the training data.\n",
        "\n",
        "        Parameters:\n",
        "        X: np.ndarray of shape (num_examples, num_features)\n",
        "            The input data (features).\n",
        "        y: np.ndarray of shape (num_examples,)\n",
        "            The corresponding labels (target values).\n",
        "        \"\"\"\n",
        "        # ToDo: Exercise 1.2\n",
        "        # **Replace `pass` with your code**\n",
        "        pass\n",
        "\n",
        "    def predict_proba(self, X: np.ndarray) -> np.ndarray:\n",
        "        \"\"\"\n",
        "        Predict the class probabilities for the given input data.\n",
        "\n",
        "        Parameters:\n",
        "        X: np.ndarray of shape (num_examples, num_features)\n",
        "            The input data (features).\n",
        "\n",
        "        Returns:\n",
        "        np.ndarray of shape (num_examples, num_classes)\n",
        "            The predicted probabilities for each class.\n",
        "        \"\"\"\n",
        "        # ToDo: Exercise 1.3\n",
        "        # **Replace `pass` with your code**\n",
        "        pass\n",
        "\n",
        "    def predict(self, X: np.ndarray) -> np.ndarray:\n",
        "        \"\"\"\n",
        "        Predict the class labels for the input data using the estimated model parameters.\n",
        "\n",
        "        Parameters:\n",
        "        X: np.ndarray of shape (num_examples, num_features)\n",
        "            The input data (features) for which predictions are needed.\n",
        "\n",
        "        Returns:\n",
        "        np.ndarray of shape (num_examples,)\n",
        "            The predicted class labels.\n",
        "        \"\"\"\n",
        "        # ToDo: Exercise 1.4\n",
        "        # **Replace `pass` with your code**\n",
        "        pass\n"
      ],
      "metadata": {
        "id": "7gUX6cTxY2CS"
      },
      "execution_count": null,
      "outputs": []
    },
    {
      "cell_type": "markdown",
      "source": [
        "### 1.1\n",
        "Based on the assumptions given before, **identify all the parameters** in the model and **write down the expressions for their maximum likelihood estimates**. You do not need to show the derivation of the expressions, just the final result."
      ],
      "metadata": {
        "id": "aVHMijtxYpoE"
      }
    },
    {
      "cell_type": "markdown",
      "source": [
        "*Your answer here*"
      ],
      "metadata": {
        "id": "HiJf1aP7cZkT"
      }
    },
    {
      "cell_type": "markdown",
      "source": [
        "### 1.2\n",
        "In this exercise, you should write the code for the `fit` method of this classifier. This method should **estimate all model parameters** using the data provided as arguments. Specifically:\n",
        "\n",
        "- `X`: A NumPy array of shape `(num_examples, num_features)` containing the training input examples $\\mathbf{x}_1, \\mathbf{x}_2, \\dots, \\mathbf{x}_n$.\n",
        "- `y`: A NumPy array of shape `(num_examples,)` containing the corresponding labels $y_1, y_2, \\dots, y_n$.\n",
        "\n",
        "The model parameters should be saved as class attributes, so they can be used later during prediction.\n",
        "\n",
        "After implementing the function, run the cell below to make sure that all the assertions pass and that the model parameter names and values are printed.\n"
      ],
      "metadata": {
        "id": "Sf85q0JTdhpM"
      }
    },
    {
      "cell_type": "code",
      "source": [
        "# instantiate the classifier and train it\n",
        "lda_clf = LDAClassifier()\n",
        "lda_clf.fit(X_train, y_train)\n",
        "\n",
        "assert lda_clf.__dict__.keys(), (\"`fit` method not implemented yet or not \"\n",
        "\"creating the class attributes.\")\n",
        "print(\"Classifier attributes:\")\n",
        "for attr, value in lda_clf.__dict__.items():\n",
        "    shape = f\", shape {value.shape}\" if hasattr(value, \"shape\") else \"\"\n",
        "    print(f\"  * {attr}{shape}: {value}\")"
      ],
      "metadata": {
        "id": "OXq8kE-PZgzF"
      },
      "execution_count": null,
      "outputs": []
    },
    {
      "cell_type": "markdown",
      "source": [
        "### 1.3\n",
        "Implement the `predict_proba` method of the `LDAClassifier` class. This method should use the model parameters estimated during the `fit` method to **predict the probabilities of each class** for new input data. Specifically, the input is:\n",
        "\n",
        "- `X`: A NumPy array of shape `(num_examples, num_features)` containing the input examples $\\mathbf{x}_1, \\mathbf{x}_2, \\dots, \\mathbf{x}_n$ for which predictions are needed.\n",
        "\n",
        "The method should return a NumPy array of shape `(num_examples, num_classes)` containing the predicted probabilities $p(y=0 \\mid \\mathbf{x}_i), p(y=1 \\mid \\mathbf{x}_i), \\dots, p(y=C-1 \\mid \\mathbf{x}_i)$, for $i \\in \\{1, 2, \\dots, n\\}$.\n",
        "\n",
        "After implementing the function, run the cell below to make sure that all the assertions pass."
      ],
      "metadata": {
        "id": "RSLu9JeJbMBS"
      }
    },
    {
      "cell_type": "code",
      "source": [
        "# instantiate the classifier\n",
        "# (we need to do this again because you probably changed the code of LDAClassifier\n",
        "# after you ran the previous cell)\n",
        "lda_clf = LDAClassifier()\n",
        "lda_clf.fit(X_train, y_train)\n",
        "\n",
        "# predict the class probabilities for the training data\n",
        "probs = lda_clf.predict_proba(X_train)\n",
        "\n",
        "assert probs is not None, (\"`predict_proba` method not implemented yet or \"\n",
        "\"not returning a valid array.\")\n",
        "assert probs.shape == (len(X_train), 6), (\"`predict_proba` output should \"\n",
        "\"have shape (num_examples, num_classes).\")\n",
        "assert np.all((probs >= 0) * (probs <= 1)), (\"`predict_proba` output should be \"\n",
        "\"probabilities.\")\n",
        "assert np.allclose(probs.sum(axis=1), 1), (\"`predict_proba` output should be a \"\n",
        "\"(proper) probability distribution.\")\n",
        "print(\"Your `predict_proba` looks good! 🚀\")"
      ],
      "metadata": {
        "id": "S-7e3TzWcOnH"
      },
      "execution_count": null,
      "outputs": []
    },
    {
      "cell_type": "markdown",
      "source": [
        "### 1.4\n",
        "Implement the `predict` method of the `LDAClassifier` class. This method should **predict the class labels** for new input data, by applying the MAP rule. Specifically, the input is:\n",
        "\n",
        "- `X`: A NumPy array of shape `(num_examples, num_features)` containing the input examples $\\mathbf{x}_1, \\mathbf{x}_2, \\dots, \\mathbf{x}_n$ for which predictions are needed.\n",
        "\n",
        "The method should return a NumPy array of shape `(num_examples,)` containing the predicted class labels $\\widehat{y}_1, \\widehat{y}_2, \\dots, \\widehat{y}_n$.\n",
        "\n",
        "After implementing the function, run the cell below to make sure that all the assertions pass and that a summary of the model predictions is printed.\n"
      ],
      "metadata": {
        "id": "s4LLeAaQgLzQ"
      }
    },
    {
      "cell_type": "code",
      "source": [
        "# instantiate the classifier\n",
        "# (we need to do this again because you probably changed the code of LDAClassifier\n",
        "# after you ran the previous cell)\n",
        "lda_clf = LDAClassifier()\n",
        "lda_clf.fit(X_train, y_train)\n",
        "\n",
        "# predict the class labels for the training data\n",
        "y_train_pred = lda_clf.predict(X_train)\n",
        "assert y_train_pred is not None, (\"`predict` method not implemented yet or not returning \"\n",
        "\"any predictions.\")\n",
        "assert len(y_train_pred) == len(X_train), (\"You should have one predicted \"\n",
        "\"label for each input example.\")\n",
        "print(\"Your classifier predicted:\")\n",
        "for j in range(6):\n",
        "    print(f\"  * {(y_train_pred == j).sum()} training examples in class {j}.\")\n",
        "print()\n",
        "\n",
        "# predict the class labels for the test data\n",
        "y_test_pred = lda_clf.predict(X_test)\n",
        "assert y_test_pred is not None, (\"`predict` method not implemented yet or not returning \"\n",
        "\"any predictions.\")\n",
        "assert len(y_test_pred) == len(X_test), (\"You should have one predicted \"\n",
        "\"label for each input example.\")\n",
        "print(\"Your classifier predicted:\")\n",
        "for j in range(6):\n",
        "    print(f\"  * {(y_test_pred == j).sum()} test examples in class {j}.\")"
      ],
      "metadata": {
        "id": "pp4b2ax3eoYS"
      },
      "execution_count": null,
      "outputs": []
    },
    {
      "cell_type": "markdown",
      "source": [
        "### 1.5\n",
        "Complete the code of the function `compute_accuracy`, which **computes the accuracy** of a given set of predictions when compared to the ground-truth labels. This function will be used to compute the training and test accuracies of our `LDAClassifier`.\n",
        "\n",
        "After implementing the function, run the cell below to make sure that all the assertions pass and that the values of the training and test accuracies are reasonable."
      ],
      "metadata": {
        "id": "6465-BowhHoB"
      }
    },
    {
      "cell_type": "code",
      "source": [
        "def compute_accuracy(y_true: np.ndarray, y_pred: np.ndarray) -> float:\n",
        "    \"\"\"\n",
        "    Computes the accuracy of the classifier.\n",
        "\n",
        "    Parameters:\n",
        "    y_true: np.ndarray of shape (num_examples,)\n",
        "        The true class labels.\n",
        "    y_pred: np.ndarray of shape (num_examples,)\n",
        "        The predicted class labels.\n",
        "\n",
        "    Returns:\n",
        "    float\n",
        "        The accuracy of the classifier.\n",
        "    \"\"\"\n",
        "    # ToDo: Exercise 1.5\n",
        "    # **Replace `pass` with your code**\n",
        "    pass\n",
        "\n",
        "\n",
        "# compute the training accuracy\n",
        "train_accuracy = compute_accuracy(y_train, y_train_pred)\n",
        "assert train_accuracy is not None, (\"`compute_accuracy` not implemented yet or \"\n",
        "\"not returning a valid float.\")\n",
        "print(f\"Training accuracy: {train_accuracy:.3f}\")\n",
        "\n",
        "# compute the test accuracy\n",
        "test_accuracy = compute_accuracy(y_test, y_test_pred)\n",
        "assert test_accuracy is not None, (\"`compute_accuracy` not implemented yet or \"\n",
        "\"not returning a valid float.\")\n",
        "print(f\"Test accuracy: {test_accuracy:.3f}\")\n"
      ],
      "metadata": {
        "id": "OFq5rhpzhG5s"
      },
      "execution_count": null,
      "outputs": []
    },
    {
      "cell_type": "markdown",
      "source": [
        "### 1.6\n",
        "Explain why normalizing features to have zero mean and unit variance is an important preprocessing step **for this classifier**."
      ],
      "metadata": {
        "id": "VCBIKZOiB4_N"
      }
    },
    {
      "cell_type": "markdown",
      "source": [
        "*Your answer here*"
      ],
      "metadata": {
        "id": "-nbSsfDoCSCv"
      }
    },
    {
      "cell_type": "markdown",
      "source": [
        "## Problem 2: Softmax Regression"
      ],
      "metadata": {
        "id": "s1Xz8j4Ulnbr"
      }
    },
    {
      "cell_type": "markdown",
      "source": [
        "The **softmax regression** (also known as **multinomial logistic regression**) is a generalization of the logistic regression to multi-class (i.e., non-binary) classification problems. For a given input $\\mathbf{x}$, the raw score *(logit)* for class $y$ is calculated as:\n",
        "\n",
        "$$\n",
        "z_y = \\mathbf{w}_y^\\top \\mathbf{x} + b_y,\n",
        "$$\n",
        "\n",
        "where:\n",
        "- $\\mathbf{w}_y$ is the weight vector for class $y$,\n",
        "- $\\mathbf{x}$ is the input feature vector,\n",
        "- $b_y$ is the bias term for class $y$,\n",
        "- $z_y$ is the logit (raw score) for class $y$.\n",
        "\n",
        "The *softmax* function converts these logits into probabilities $p(y \\mid \\mathbf{x})$, for $y \\in \\{0, 1, \\dots, C-1\\}$, as follows:\n",
        "\n",
        "$$\n",
        "p(y \\mid \\mathbf{x}) = \\frac{\\exp(z_y)}{\\sum_{j=0}^{C-1} \\exp(z_j)}.\n",
        "$$\n",
        "\n",
        "As with logistic regression, the parameters of softmax regression are usually estimated by maximum likelihood, i.e. by minimizing the function:\n",
        "\n",
        "$$\\ell(\\mathbf{\\theta}) = -\\frac{1}{n} \\sum_{i=1}^n \\log p(y_i \\mid \\mathbf{x}_i; \\mathbf{\\theta}),$$\n",
        "\n",
        "where $\\mathbf{\\theta}$ denotes all model parameters ($\\mathbf{w}_0, \\dots, \\mathbf{w}_{C-1}, b_0, \\dots, b_{C-1}$) and $\\{(\\mathbf{x}_1, y_1), (\\mathbf{x}_2, y_2), \\dots, (\\mathbf{x}_n, y_n)\\}$ is a given training set of labeled examples. As with logistic regression, there is no closed-form solution for the maximum likelihood estimates of these parameters, so they must be estimated using gradient-based optimization.\n",
        "\n",
        "In the cell below, you have the skeleton of a `SoftmaxRegressionClassifier` class that you will complete throughout this exercise to implement this classifier."
      ],
      "metadata": {
        "id": "8WzVTofAlrl7"
      }
    },
    {
      "cell_type": "code",
      "source": [
        "class SoftmaxRegressionClassifier:\n",
        "    def __init__(\n",
        "        self,\n",
        "        learning_rate: float = 0.01,\n",
        "        max_iterations: int = 10000,\n",
        "        tolerance: float = 1e-5,\n",
        "    ) -> None:\n",
        "        \"\"\"\n",
        "        Initialize the softmax regression classifier.\n",
        "\n",
        "        Parameters:\n",
        "        learning_rate: float\n",
        "            The learning rate for gradient descent.\n",
        "        max_iterations: int\n",
        "            The maximum number of training iterations.\n",
        "        tolerance: float\n",
        "            The maximum tolerance for the loss improvement.\n",
        "        \"\"\"\n",
        "        self.learning_rate = learning_rate\n",
        "        self.max_iterations = max_iterations\n",
        "        self.tolerance = tolerance\n",
        "        # parameters will be initialized properly when we call `fit`\n",
        "        self.weights = None\n",
        "        self.biases = None\n",
        "\n",
        "    @staticmethod\n",
        "    def softmax(logits: np.ndarray) -> np.ndarray:\n",
        "        \"\"\"\n",
        "        Compute the softmax probabilities for the input logits.\n",
        "\n",
        "        Parameters:\n",
        "        logits: np.ndarray of shape (num_examples, num_classes)\n",
        "            The raw class scores (logits) from the model.\n",
        "\n",
        "        Returns:\n",
        "        np.ndarray of shape (num_examples, num_classes)\n",
        "            The predicted probabilities for each class.\n",
        "        \"\"\"\n",
        "        # ToDo: Exercise 2.1\n",
        "        # **Replace `pass` with your code**\n",
        "        pass\n",
        "\n",
        "    def predict_proba(self, X: np.ndarray) -> np.ndarray:\n",
        "        \"\"\"\n",
        "        Predict the class probabilities for the given input data.\n",
        "\n",
        "        Parameters:\n",
        "        X: np.ndarray of shape (num_examples, num_features)\n",
        "            The input data (features).\n",
        "\n",
        "        Returns:\n",
        "        np.ndarray of shape (num_examples, num_classes)\n",
        "            The predicted probabilities for each class.\n",
        "        \"\"\"\n",
        "        # ToDo: Exercise 2.2\n",
        "        # **Replace `pass` with your code**\n",
        "        pass\n",
        "\n",
        "    def compute_loss_and_gradients(self, X: np.ndarray, y: np.ndarray) -> tuple[float, np.ndarray, np.ndarray]:\n",
        "        \"\"\"\n",
        "        Compute the loss and the gradients of the weights and biases for the softmax regression model.\n",
        "\n",
        "        Parameters:\n",
        "        X: np.ndarray of shape (num_examples, num_features)\n",
        "            The input data (features).\n",
        "        y: np.ndarray of shape (num_examples,)\n",
        "            The corresponding labels (target values).\n",
        "\n",
        "        Returns:\n",
        "        loss: float\n",
        "            The loss value.\n",
        "        dweights: np.ndarray of shape (num_features, num_classes)\n",
        "            The gradient of the loss with respect to the weights.\n",
        "        dbiases: np.ndarray of shape (num_classes,)\n",
        "            The gradient of the loss with respect to the biases.\n",
        "        \"\"\"\n",
        "        # ToDo: Exercise 2.3\n",
        "        # **Replace `pass` with your code**\n",
        "        pass\n",
        "\n",
        "    def fit(self, X: np.ndarray, y: np.ndarray) -> np.ndarray:\n",
        "        \"\"\"\n",
        "        Train the softmax regression model using gradient descent.\n",
        "\n",
        "        Parameters:\n",
        "        X: np.ndarray of shape (num_examples, num_features)\n",
        "            The input data (features).\n",
        "        y: np.ndarray of shape (num_examples,)\n",
        "            The corresponding labels (target values).\n",
        "\n",
        "        Returns:\n",
        "        np.ndarray of shape (num_training_iterations,)\n",
        "            The loss values obtained on each training iteration.\n",
        "        \"\"\"\n",
        "        num_examples, num_features = X.shape\n",
        "        num_classes = np.max(y) + 1\n",
        "\n",
        "        # parameters initialization\n",
        "        self.weights = np.random.randn(num_features, num_classes)  # weights are initialized randomly\n",
        "        self.biases = np.zeros((num_classes,))  # biases are initialized with zeros\n",
        "\n",
        "        # ToDo: Exercise 2.4\n",
        "        # **Replace `pass` with your code**\n",
        "        pass\n",
        "\n",
        "    def predict(self, X: np.ndarray) -> np.ndarray:\n",
        "        \"\"\"\n",
        "        Predict class labels for the given input data.\n",
        "\n",
        "        Parameters:\n",
        "        X: np.ndarray of shape (num_examples, num_features)\n",
        "            The input data (features).\n",
        "\n",
        "        Returns:\n",
        "        np.ndarray of shape (num_examples,)\n",
        "            The predicted class labels.\n",
        "        \"\"\"\n",
        "        # ToDo: Exercise 2.5\n",
        "        # **Replace `pass` with your code**\n",
        "        pass"
      ],
      "metadata": {
        "id": "xeFtsBU3ygp5"
      },
      "execution_count": null,
      "outputs": []
    },
    {
      "cell_type": "markdown",
      "source": [
        "### 2.1\n",
        "Now we'll start implementing our softmax regression classifier by filling the skeleton of the `SoftmaxRegressionClassifier` class defined above.\n",
        "\n",
        "For this exercise, you should only **implement the `softmax` method**, which takes as input the `logits` array with shape `(num_examples, num_classes)` and returns the output probabilities for each class in an array with the same shape.\n",
        "\n",
        "The softmax function involves exponentials, which can lead to large numbers and potential numerical instability. To address this, we will use a common trick: subtract the maximum logit value from all logits before applying the exponential function:\n",
        "\n",
        "$$\n",
        "p(y \\mid \\mathbf{x}) = \\frac{\\exp(z_y)}{\\sum_{j=0}^{C-1} \\exp(z_j)} = \\frac{\\exp(z_y - z_\\max)}{\\sum_{j=0}^{C-1} \\exp(z_j-z_\\max)},\n",
        "$$\n",
        "\n",
        "where $z_\\max = \\max(z_0, z_1, \\dots, z_{C-1})$. This transformation does not affect the final result but ensures the values remain within a stable range. In your solution, **you should implement this trick** to ensure numerical stability.\n",
        "\n",
        "Run the cell below after you implement the function and make sure all the assertions pass."
      ],
      "metadata": {
        "id": "QvqLeAyspvKj"
      }
    },
    {
      "cell_type": "code",
      "source": [
        "logits = np.random.randn(10, 6)\n",
        "probs = SoftmaxRegressionClassifier.softmax(logits)\n",
        "\n",
        "assert probs is not None, (\"`softmax` method not implemented yet or not \"\n",
        "\"returning a valid array.\")\n",
        "assert probs.shape == logits.shape, (\"`softmax` output should have the same \"\n",
        "\"shape as the input.\")\n",
        "assert np.all((probs >= 0) * (probs <= 1)), (\"`softmax` output should be \"\n",
        "\"probabilities.\")\n",
        "assert np.allclose(probs.sum(axis=1), 1), (\"`softmax` output should be a \"\n",
        "\"(proper) probability distribution.\")\n",
        "print(\"Your `softmax` looks good! 🚀\")"
      ],
      "metadata": {
        "id": "s3VR3wD16Uve"
      },
      "execution_count": null,
      "outputs": []
    },
    {
      "cell_type": "markdown",
      "source": [
        "### 2.2\n",
        "In this exercise, you will **implement the `predict_proba` method** of this class, which is analogous to the method you implemented earlier for the `LDAClassifier`.\n",
        "\n",
        "Run the cell below after you implement the function and make sure all the assertions pass.\n"
      ],
      "metadata": {
        "id": "eZfENtw_0eHw"
      }
    },
    {
      "cell_type": "code",
      "source": [
        "# instantiate the classifier\n",
        "softmax_clf = SoftmaxRegressionClassifier()\n",
        "\n",
        "# since we haven't trained the classifier yet, we initialize the model parameters\n",
        "# with some random values just for testing `predict_proba`\n",
        "softmax_clf.weights = np.random.randn(11, 6)\n",
        "softmax_clf.biases = np.random.randn(6)\n",
        "\n",
        "# predict the class probabilities for the training data\n",
        "probs = softmax_clf.predict_proba(X_train)\n",
        "\n",
        "assert probs is not None, (\"`predict_proba` method not implemented yet or \"\n",
        "\"not returning a valid array.\")\n",
        "assert probs.shape == (len(X_train), 6), (\"`predict_proba` output should \"\n",
        "\"have shape (num_examples, num_classes).\")\n",
        "assert np.all((probs >= 0) * (probs <= 1)), (\"`predict_proba` output should be \"\n",
        "\"probabilities.\")\n",
        "assert np.allclose(probs.sum(axis=1), 1), (\"`predict_proba` output should be a \"\n",
        "\"(proper) probability distribution.\")\n",
        "print(\"Your `predict_proba` looks good! 🚀\")"
      ],
      "metadata": {
        "id": "dlfKLbTy3YsP"
      },
      "execution_count": null,
      "outputs": []
    },
    {
      "cell_type": "markdown",
      "source": [
        "### 2.3\n",
        "Now you should **implement the `compute_loss_and_gradients` method**, which should compute the loss $\\ell(\\mathbf{\\theta})$ and the gradients $\\nabla_{\\mathbf{w}_y} \\ell(\\mathbf{\\theta})$ and $\\nabla_{b_y} \\ell(\\mathbf{\\theta})$ of $\\ell(\\mathbf{\\theta})$ with respect to $\\mathbf{w}_y$ and $b_y$, respectively.\n",
        "\n",
        "To save you some work, we provide you with the formulas for the gradients (if you're curious and brave enough, we encourage you to try to derive these formulas by yourself 💪):\n",
        "\n",
        "$$\\begin{align}\n",
        "&\\nabla_{\\mathbf{w}_y} \\ell(\\mathbf{\\theta}) = \\frac{1}{n}\\sum_{i=1}^n \\left(p(y \\mid \\mathbf{x}_i; \\mathbf{\\theta}) - 1(y_i = y)\\right)\\mathbf{x}_i,\\\\\n",
        "&\\nabla_{b_y} \\ell(\\mathbf{\\theta}) = \\frac{1}{n}\\sum_{i=1}^n \\left(p(y \\mid \\mathbf{x}_i; \\mathbf{\\theta}) - 1(y_i = y)\\right),\n",
        "\\end{align}$$\n",
        "\n",
        "where $1(\\cdot)$ denotes the indicator function (i.e., $1(\\text{condition}) = 1$ if the $\\text{condition}$ is true, and $1(\\text{condition}) = 0$ if the $\\text{condition}$ is false).\n",
        "\n",
        "**Hint:** Use the function `predict_proba`.\n",
        "\n",
        "Run the cell below after you implement the function and make sure all the assertions pass."
      ],
      "metadata": {
        "id": "rNW8ozRG2YKW"
      }
    },
    {
      "cell_type": "code",
      "source": [
        "# instantiate the classifier\n",
        "# (we need to do this again because you probably changed the code of SoftmaxRegressionClassifier\n",
        "# after you ran the previous cell)\n",
        "softmax_clf = SoftmaxRegressionClassifier()\n",
        "\n",
        "# since we haven't trained the classifier yet, we initialize the model parameters\n",
        "# with some random values just for testing `predict_proba`\n",
        "softmax_clf.weights = np.random.randn(11, 6)\n",
        "softmax_clf.biases = np.random.randn(6)\n",
        "\n",
        "loss_and_grads = softmax_clf.compute_loss_and_gradients(X_train, y_train)\n",
        "\n",
        "assert loss_and_grads is not None, (\"`compute_gradients` method not implemented yet or \"\n",
        "\"not returning a valid tuple.\")\n",
        "assert len(loss_and_grads) == 3, (\"`compute_gradients` should return a tuple with three \"\n",
        "\"elements.\")\n",
        "loss, dweights, dbiases = loss_and_grads\n",
        "assert isinstance(loss, float), (\"the loss value should be a float.\")\n",
        "assert loss >= 0, (f\"the loss value cannot be negative, got {loss:.3f}.\")\n",
        "assert isinstance(dweights, np.ndarray) and isinstance(dbiases, np.ndarray), (\n",
        "\"gradients should be NumPy arrays.\")\n",
        "assert dweights.shape == softmax_clf.weights.shape and dbiases.shape == softmax_clf.biases.shape, (\n",
        "\"`compute_gradients` output should have the correct shapes.\")\n",
        "print(\"Your `compute_gradients` looks good! 🚀\")"
      ],
      "metadata": {
        "id": "05a-SBrAz7HU"
      },
      "execution_count": null,
      "outputs": []
    },
    {
      "cell_type": "markdown",
      "source": [
        "### 2.4\n",
        "We are finally ready to **implement the `fit` method**, which should perform `max_iterations` iterations of **gradient descent** with the given `learning_rate` to estimate the `weights` and `biases` of the model. The method should stop earlier if the loss improvement is less than `tolerance` from one iteration to the next.\n",
        "\n",
        "The inputs of this method are again analogous to those of the `fit` method of the `LDAClassifier`. However, now we want to **return an array with the loss values** on each training iteration, so that we can plot the loss curve afterwards.\n",
        "\n",
        "Run the cell below after you have implemented the function and make sure that all the assertions pass. A plot showing the evolution of the loss during training will be generated, and you should also make sure that it looks as you would expect."
      ],
      "metadata": {
        "id": "4Ed68lgs9ruo"
      }
    },
    {
      "cell_type": "code",
      "source": [
        "import matplotlib.pyplot as plt\n",
        "\n",
        "# instantiate the classifier\n",
        "# (we need to do this again because you probably changed the code of SoftmaxRegressionClassifier\n",
        "# after you ran the previous cell)\n",
        "softmax_clf = SoftmaxRegressionClassifier()\n",
        "# train the classifier\n",
        "loss_hist = softmax_clf.fit(X_train, y_train)\n",
        "\n",
        "assert softmax_clf.weights is not None, (\"`fit` method not implemented yet or not \"\n",
        "\"updating the `weights` attribute.\")\n",
        "assert softmax_clf.biases is not None, (\"`fit` method not implemented yet or not \"\n",
        "\"updating the `biases` attribute.\")\n",
        "assert softmax_clf.weights.shape == (11, 6) and softmax_clf.biases.shape == (6,), (\"`fit` \"\n",
        "\"method should create the `weights` and `biases` attributes with the \"\n",
        "\"correct shapes.\")\n",
        "assert loss_hist is not None, (\"`fit` method not implemented yet or not \"\n",
        "\"returning a valid array.\")\n",
        "\n",
        "# plot the evolution of the loss during training\n",
        "plt.plot(loss_hist)\n",
        "plt.xlabel(\"Iteration\")\n",
        "plt.ylabel(\"Loss\")\n",
        "plt.title(\"Evolution of the loss during training\")\n",
        "plt.show()"
      ],
      "metadata": {
        "id": "zLJrKd8Q9ncf"
      },
      "execution_count": null,
      "outputs": []
    },
    {
      "cell_type": "markdown",
      "source": [
        "### 2.5\n",
        "To finish the implementation of the classifier, you still need to **implement the `predict` method**, which again is analogous to the same method of the `LDAClassifier`.\n",
        "\n",
        "After implementing the function, run the cell below to make sure that all the assertions pass and that the values of the training and test accuracies are reasonable."
      ],
      "metadata": {
        "id": "A0K95JWSAGVy"
      }
    },
    {
      "cell_type": "code",
      "source": [
        "# instantiate the classifier and train it\n",
        "# (we need to do this again because you probably changed the code of SoftmaxRegressionClassifier\n",
        "# after you ran the previous cell)\n",
        "softmax_clf = SoftmaxRegressionClassifier()\n",
        "softmax_clf.fit(X_train, y_train)\n",
        "\n",
        "# predict the class labels for the training data\n",
        "y_train_pred = softmax_clf.predict(X_train)\n",
        "assert y_train_pred is not None, (\"`predict` method not implemented yet or not returning \"\n",
        "\"any predictions.\")\n",
        "assert len(y_train_pred) == len(X_train), (\"You should have one predicted \"\n",
        "\"label for each input example.\")\n",
        "print(\"Your classifier predicted:\")\n",
        "for j in range(6):\n",
        "    print(f\"  * {(y_train_pred == j).sum()} training examples in class {j}.\")\n",
        "print()\n",
        "\n",
        "# predict the class labels for the test data\n",
        "y_test_pred = softmax_clf.predict(X_test)\n",
        "assert y_test_pred is not None, (\"`predict` method not implemented yet or not returning \"\n",
        "\"any predictions.\")\n",
        "assert len(y_test_pred) == len(X_test), (\"You should have one predicted \"\n",
        "\"label for each input example.\")\n",
        "print(\"Your classifier predicted:\")\n",
        "for j in range(6):\n",
        "    print(f\"  * {(y_test_pred == j).sum()} test examples in class {j}.\")\n",
        "print()\n",
        "\n",
        "# compute the training accuracy\n",
        "train_accuracy = compute_accuracy(y_train, y_train_pred)\n",
        "print(f\"Training accuracy: {train_accuracy:.3f}\")\n",
        "\n",
        "# compute the test accuracy\n",
        "test_accuracy = compute_accuracy(y_test, y_test_pred)\n",
        "print(f\"Test accuracy: {test_accuracy:.3f}\")\n"
      ],
      "metadata": {
        "id": "AVdmrqVtAj5q"
      },
      "execution_count": null,
      "outputs": []
    },
    {
      "cell_type": "markdown",
      "source": [
        "### 2.6\n",
        "Based on the accuracy values, **which of the two classifiers**, `SoftmaxRegClassifier` or `LDAClassifier`, **would you choose** to solve this classification problem? Justify your answer."
      ],
      "metadata": {
        "id": "WMhAg1J5Bs17"
      }
    },
    {
      "cell_type": "markdown",
      "source": [
        "*Your answer here*"
      ],
      "metadata": {
        "id": "wD4p1_abCIhh"
      }
    },
    {
      "cell_type": "markdown",
      "source": [
        "### 2.7\n",
        "Explain why normalizing features to have zero mean and unit variance is an important preprocessing step **for this classifier**."
      ],
      "metadata": {
        "id": "r7Z_fOwnCYv6"
      }
    },
    {
      "cell_type": "markdown",
      "source": [
        "*Your answer here*"
      ],
      "metadata": {
        "id": "FbOlIL17Caqv"
      }
    },
    {
      "cell_type": "markdown",
      "source": [
        "## Problem 3: Ensemble Classifiers"
      ],
      "metadata": {
        "id": "Ldt7X-QQCLei"
      }
    },
    {
      "cell_type": "markdown",
      "source": [
        "In problems 1 and 2, you built two different classifiers for the in-hands problem. Now, you will build an *ensemble* using those classifiers, i.e. you will create a new classifier that uses the predictions of the individual classifiers and combines them to produce the final decision."
      ],
      "metadata": {
        "id": "diJCtaaSChyI"
      }
    },
    {
      "cell_type": "markdown",
      "source": [
        "### 3.1\n",
        "There are several different strategies to create classifier ensembles (e.g., hard voting, soft voting, or weighted voting). **Propose and explain the ensembling strategy** that you will use to combine the two classifiers."
      ],
      "metadata": {
        "id": "hA0hdzfGD_MH"
      }
    },
    {
      "cell_type": "markdown",
      "source": [
        "*Your answer here*"
      ],
      "metadata": {
        "id": "9WRqX7KeESfL"
      }
    },
    {
      "cell_type": "markdown",
      "source": [
        "### 3.2\n",
        "Complete the code of the function `ensemble_predict`, whose skeleton is given below, by **implementing the ensembling strategy you proposed** in the previous question. This function receives:\n",
        "- `X`: An array of shape `(num_examples, num_features)` containing the input examples $\\mathbf{x}_1, \\mathbf{x}_2, \\dots, \\mathbf{x}_n$ for which predictions are needed.\n",
        "- `lda_clf`: An instance of `LDACLassifier`.\n",
        "- `softmax_clf`: An instance of `SoftmaxRegressionClassifier`.\n",
        "\n",
        "The function should return an array of shape `(num_examples,)` with the predicted labels for each input example.\n",
        "\n",
        "After implementing the function, run the cell below to make sure that all the assertions pass and that the training and test accuracy values are reasonable."
      ],
      "metadata": {
        "id": "tyqfeSkfEVkJ"
      }
    },
    {
      "cell_type": "code",
      "source": [
        "def ensemble_predict(\n",
        "    X: np.ndarray,\n",
        "    lda_clf: LDAClassifier,\n",
        "    softmax_clf: SoftmaxRegressionClassifier,\n",
        ") -> np.ndarray:\n",
        "    \"\"\"\n",
        "    Predict the class labels for the given input data using an ensemble classifier.\n",
        "\n",
        "    Parameters:\n",
        "    X: np.ndarray of shape (num_examples, num_features)\n",
        "        The input data (features).\n",
        "    lda_clf: LDAClassifier\n",
        "        The LDAClassifier instance.\n",
        "    softmax_clf: SoftmaxRegressionClassifier\n",
        "        The SoftmaxRegressionClassifier instance.\n",
        "\n",
        "    Returns:\n",
        "    np.ndarray of shape (num_examples,)\n",
        "        The predicted class labels.\n",
        "    \"\"\"\n",
        "    # ToDo: Exercise 3.2\n",
        "    # **Replace `pass` with your code**\n",
        "    pass\n",
        "\n",
        "\n",
        "# predict the class labels for the training data\n",
        "y_train_pred = ensemble_predict(X_train, lda_clf, softmax_clf)\n",
        "assert y_train_pred is not None, (\"`ensemble_predict` method not implemented yet\"\n",
        "\" or not returning any predictions.\")\n",
        "assert len(y_train_pred) == len(X_train), (\"You should have one predicted \"\n",
        "\"label for each input example.\")\n",
        "print(\"Your classifier predicted:\")\n",
        "for j in range(6):\n",
        "    print(f\"  * {(y_train_pred == j).sum()} training examples in class {j}.\")\n",
        "print()\n",
        "\n",
        "# predict the class labels for the test data\n",
        "y_test_pred = ensemble_predict(X_test, lda_clf, softmax_clf)\n",
        "assert y_test_pred is not None, (\"`ensemble_predict` method not implemented yet \"\n",
        "\"or not returning any predictions.\")\n",
        "assert len(y_test_pred) == len(X_test), (\"You should have one predicted \"\n",
        "\"label for each input example.\")\n",
        "print(\"Your classifier predicted:\")\n",
        "for j in range(6):\n",
        "    print(f\"  * {(y_test_pred == j).sum()} test examples in class {j}.\")\n",
        "print()\n",
        "\n",
        "# compute the training accuracy\n",
        "train_accuracy = compute_accuracy(y_train, y_train_pred)\n",
        "print(f\"Training accuracy: {train_accuracy:.3f}\")\n",
        "\n",
        "# compute the test accuracy\n",
        "test_accuracy = compute_accuracy(y_test, y_test_pred)\n",
        "print(f\"Test accuracy: {test_accuracy:.3f}\")"
      ],
      "metadata": {
        "id": "hsXEbKKdBsEK"
      },
      "execution_count": null,
      "outputs": []
    },
    {
      "cell_type": "markdown",
      "source": [
        "### 3.3\n",
        "Based on the accuracy values, **would you prefer the ensemble classifier or one of the classifiers individually**? Justify your answer."
      ],
      "metadata": {
        "id": "xA-M_lTwHdBE"
      }
    },
    {
      "cell_type": "markdown",
      "source": [
        "*Your answer here*"
      ],
      "metadata": {
        "id": "kE58fYIKHpli"
      }
    }
  ]
}